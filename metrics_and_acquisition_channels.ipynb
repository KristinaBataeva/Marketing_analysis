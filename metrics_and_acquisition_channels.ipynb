{
 "cells": [
  {
   "cell_type": "markdown",
   "metadata": {},
   "source": [
    "## Задача\n",
    "Вы работаете продуктовым аналитиком в компании по доставке продуктов на дом. Сервис доступен как в приложении на ios, так и на android. Вы настроили фронтовую аналитику в AppMetrica, и в конце квартала маркетинг-менеджер попросил вас проанализировать поведение пользователей, а также оценить эффективность каналов их привлечения. \n",
    "\n",
    "Вы выгрузили данные из AppMetrica за период с 1 января по 31 марта 2020, только по пользователям, зарегистрированным позднее 1 января 2020.\n",
    "\n",
    "#### Вопросы:\n",
    "1. MAU февраля\n",
    "\n",
    "75032\n",
    "\n",
    "2. Количество установок в январе\n",
    "\n",
    "80297\n",
    "\n",
    "3. Присвойте пользователям когорты по дню установки приложения и посчитайте для них  конверсию из установки в покупку в течение 7 дней. Для какой когорты конверсия была наибольшей? Примечание: считаем пользователя сконвертировавшимся, если с момента установки до совершения первой покупки прошло не более 7 дней\n",
    "\n",
    "Когорта с максимальной конверсией - 2020-01-01, CR = 64.5%\n",
    "\n",
    "4. С какого платного маркетингового канала пришло больше всего новых пользователей? \n",
    "\n",
    "yandex-direct\n",
    "\n",
    "5. Проанализируйте на каком этапе воронки отваливается бОльшая часть клиентов. Посмотрите отдельно сценарии для зарегистрированных и для незарегистрированных пользователей. На каком шаге отваливается больше всего зарегистрированных пользователей?\n",
    "\n",
    "tap_basket(Добавление в корзину)\n",
    "\n",
    "6. Пользователи, пришедшие с каких каналов, показали самую низкую конверсию в первую покупку?\n",
    "\n",
    "yandex-direct\n",
    "\n",
    "7. Пользователи, пришедшие с какого канала, имеют медианный первый чек выше? (учитываются только первые покупки пользователей)\n",
    "\n",
    "Органика\n",
    "\n",
    "8. Данные по затратам на рекламу:\n",
    "\n",
    "    Яндекс – 10 491 707 руб.\n",
    "\n",
    "    Гугл – 10 534 878 руб.\n",
    "\n",
    "    Фейсбук – 8 590 498 руб.\n",
    "\n",
    "    Инстаграм – 8 561626 руб.\n",
    "\n",
    "    ВК – 9 553 531руб.\n",
    "\n",
    "    Какой платный канал привлечения имеет самый высокий ROMI? \n",
    "    \n",
    "vk_ads\n",
    "\n",
    "\n",
    "\n",
    "**Описание данных**\n",
    "\n",
    "- date – дата совершения события\n",
    "\n",
    "- event - событие\n",
    "\n",
    "--  app_install – установка приложения\n",
    "\n",
    "-- app_start – открыть приложения\n",
    "\n",
    "-- registration – зарегистрироваться \n",
    "\n",
    "-- search – перейти на страницу поиска товаров (каталог)\n",
    "\n",
    "-- open_item – открыть товар\n",
    "\n",
    "-- choose_item – отправить товар в корзину\n",
    "\n",
    "-- tap_basket – перейти в корзину\n",
    "\n",
    "-- purchase – подтверждение покупки\n",
    "\n",
    "- gender – пол пользователя\n",
    "\n",
    "- os_name – платформа пользователя\n",
    "\n",
    "- city – город пользователя\n",
    "\n",
    "- device_id – идентификатор устройства пользователя\n",
    "\n",
    "- urm_source – канал, с которого пришел пользователь\n",
    "\n",
    "- purchase_sum – стоимость покупки (при совершении события ‘purchase’)\n",
    "\n",
    "Обратите внимание на следующее:\n",
    "\n",
    "- В выгрузке только уникальные действия пользователей за каждый день \n",
    "\n",
    "- Можно миновать стадию установки приложения, если оно было установлено ранее\n",
    "\n",
    "- Можно миновать стадию регистрации, если пользователь был уже залогинен на момент сессии. Однако незарегистрированные пользователи не могут оформить покупку. "
   ]
  },
  {
   "cell_type": "code",
   "execution_count": 1,
   "metadata": {},
   "outputs": [],
   "source": [
    "import pandas as pd\n",
    "import numpy as np"
   ]
  },
  {
   "cell_type": "markdown",
   "metadata": {},
   "source": [
    "Читаем данные, смотрим их характеристики:"
   ]
  },
  {
   "cell_type": "code",
   "execution_count": 5,
   "metadata": {},
   "outputs": [
    {
     "data": {
      "text/html": [
       "<div>\n",
       "<style scoped>\n",
       "    .dataframe tbody tr th:only-of-type {\n",
       "        vertical-align: middle;\n",
       "    }\n",
       "\n",
       "    .dataframe tbody tr th {\n",
       "        vertical-align: top;\n",
       "    }\n",
       "\n",
       "    .dataframe thead th {\n",
       "        text-align: right;\n",
       "    }\n",
       "</style>\n",
       "<table border=\"1\" class=\"dataframe\">\n",
       "  <thead>\n",
       "    <tr style=\"text-align: right;\">\n",
       "      <th></th>\n",
       "      <th>date</th>\n",
       "      <th>event</th>\n",
       "      <th>purchase_sum</th>\n",
       "      <th>os_name</th>\n",
       "      <th>device_id</th>\n",
       "      <th>gender</th>\n",
       "      <th>city</th>\n",
       "      <th>utm_source</th>\n",
       "    </tr>\n",
       "  </thead>\n",
       "  <tbody>\n",
       "    <tr>\n",
       "      <th>0</th>\n",
       "      <td>2020-01-01</td>\n",
       "      <td>app_start</td>\n",
       "      <td>NaN</td>\n",
       "      <td>android</td>\n",
       "      <td>669460</td>\n",
       "      <td>female</td>\n",
       "      <td>Moscow</td>\n",
       "      <td>-</td>\n",
       "    </tr>\n",
       "    <tr>\n",
       "      <th>1</th>\n",
       "      <td>2020-01-01</td>\n",
       "      <td>app_start</td>\n",
       "      <td>NaN</td>\n",
       "      <td>ios</td>\n",
       "      <td>833621</td>\n",
       "      <td>male</td>\n",
       "      <td>Moscow</td>\n",
       "      <td>vk_ads</td>\n",
       "    </tr>\n",
       "    <tr>\n",
       "      <th>2</th>\n",
       "      <td>2020-01-01</td>\n",
       "      <td>app_start</td>\n",
       "      <td>NaN</td>\n",
       "      <td>android</td>\n",
       "      <td>1579237</td>\n",
       "      <td>male</td>\n",
       "      <td>Saint-Petersburg</td>\n",
       "      <td>referal</td>\n",
       "    </tr>\n",
       "    <tr>\n",
       "      <th>3</th>\n",
       "      <td>2020-01-01</td>\n",
       "      <td>app_start</td>\n",
       "      <td>NaN</td>\n",
       "      <td>android</td>\n",
       "      <td>1737182</td>\n",
       "      <td>female</td>\n",
       "      <td>Moscow</td>\n",
       "      <td>facebook_ads</td>\n",
       "    </tr>\n",
       "    <tr>\n",
       "      <th>4</th>\n",
       "      <td>2020-01-01</td>\n",
       "      <td>app_start</td>\n",
       "      <td>NaN</td>\n",
       "      <td>ios</td>\n",
       "      <td>4029024</td>\n",
       "      <td>female</td>\n",
       "      <td>Moscow</td>\n",
       "      <td>facebook_ads</td>\n",
       "    </tr>\n",
       "  </tbody>\n",
       "</table>\n",
       "</div>"
      ],
      "text/plain": [
       "         date      event  purchase_sum  os_name  device_id  gender  \\\n",
       "0  2020-01-01  app_start           NaN  android     669460  female   \n",
       "1  2020-01-01  app_start           NaN      ios     833621    male   \n",
       "2  2020-01-01  app_start           NaN  android    1579237    male   \n",
       "3  2020-01-01  app_start           NaN  android    1737182  female   \n",
       "4  2020-01-01  app_start           NaN      ios    4029024  female   \n",
       "\n",
       "               city    utm_source  \n",
       "0            Moscow             -  \n",
       "1            Moscow        vk_ads  \n",
       "2  Saint-Petersburg       referal  \n",
       "3            Moscow  facebook_ads  \n",
       "4            Moscow  facebook_ads  "
      ]
     },
     "execution_count": 5,
     "metadata": {},
     "output_type": "execute_result"
    }
   ],
   "source": [
    "df = pd.read_csv('KC_case_data.csv')\n",
    "df.head()"
   ]
  },
  {
   "cell_type": "code",
   "execution_count": 10,
   "metadata": {},
   "outputs": [
    {
     "data": {
      "text/plain": [
       "(2747968, 8)"
      ]
     },
     "execution_count": 10,
     "metadata": {},
     "output_type": "execute_result"
    }
   ],
   "source": [
    "df.shape"
   ]
  },
  {
   "cell_type": "code",
   "execution_count": 4,
   "metadata": {},
   "outputs": [
    {
     "data": {
      "text/plain": [
       "date             object\n",
       "event            object\n",
       "purchase_sum    float64\n",
       "os_name          object\n",
       "device_id         int64\n",
       "gender           object\n",
       "city             object\n",
       "utm_source       object\n",
       "dtype: object"
      ]
     },
     "execution_count": 4,
     "metadata": {},
     "output_type": "execute_result"
    }
   ],
   "source": [
    "df.dtypes"
   ]
  },
  {
   "cell_type": "code",
   "execution_count": 5,
   "metadata": {
    "scrolled": true
   },
   "outputs": [
    {
     "data": {
      "text/plain": [
       "date                  0\n",
       "event                 0\n",
       "purchase_sum    2606585\n",
       "os_name               0\n",
       "device_id             0\n",
       "gender                0\n",
       "city                  0\n",
       "utm_source            0\n",
       "dtype: int64"
      ]
     },
     "execution_count": 5,
     "metadata": {},
     "output_type": "execute_result"
    }
   ],
   "source": [
    "df.isna().sum()"
   ]
  },
  {
   "cell_type": "code",
   "execution_count": 9,
   "metadata": {
    "scrolled": true
   },
   "outputs": [],
   "source": [
    "df.date = pd.to_datetime(df.date) "
   ]
  },
  {
   "cell_type": "markdown",
   "metadata": {},
   "source": [
    "Есть пропуски по колонке purchase, связано это с тем простым фактом, что датафрейм состоит из самых разных эвентов, и не все из них являются попкупками. Проверим!"
   ]
  },
  {
   "cell_type": "code",
   "execution_count": 8,
   "metadata": {},
   "outputs": [
    {
     "data": {
      "text/plain": [
       "app_start      748705\n",
       "search         708639\n",
       "choose_item    538669\n",
       "tap_basket     377665\n",
       "app_install    154597\n",
       "purchase       141383\n",
       "register        78310\n",
       "Name: event, dtype: int64"
      ]
     },
     "execution_count": 8,
     "metadata": {},
     "output_type": "execute_result"
    }
   ],
   "source": [
    "df.event.value_counts()"
   ]
  },
  {
   "cell_type": "markdown",
   "metadata": {},
   "source": [
    "Что и требовалось доказать. \n",
    "\n",
    "#### Посмотрим MAU февраля:"
   ]
  },
  {
   "cell_type": "code",
   "execution_count": 8,
   "metadata": {},
   "outputs": [
    {
     "data": {
      "text/plain": [
       "75032"
      ]
     },
     "execution_count": 8,
     "metadata": {},
     "output_type": "execute_result"
    }
   ],
   "source": [
    "df.query('date.dt.month == 2').device_id.nunique()"
   ]
  },
  {
   "cell_type": "markdown",
   "metadata": {},
   "source": [
    "#### Количество установок в январе:"
   ]
  },
  {
   "cell_type": "code",
   "execution_count": 9,
   "metadata": {},
   "outputs": [
    {
     "data": {
      "text/plain": [
       "80297"
      ]
     },
     "execution_count": 9,
     "metadata": {},
     "output_type": "execute_result"
    }
   ],
   "source": [
    "df.query('date.dt.month == 1 & event== \"app_install\"').event.count()"
   ]
  },
  {
   "cell_type": "markdown",
   "metadata": {},
   "source": [
    "#### Когорты и конверсия в первые 7 дней\n",
    "Присвойте пользователям когорты по дню установки приложения и посчитайте для них  конверсию из установки в покупку в течение 7 дней. Для какой когорты конверсия была наибольшей? \n",
    "\n",
    "Примечание: считаем пользователя сконвертировавшимся, если с момента установки до совершения первой покупки прошло не более 7 дней."
   ]
  },
  {
   "cell_type": "markdown",
   "metadata": {},
   "source": [
    "Так как человек попадает в когорту только вместе с установкой, сначала ищу айди по установке"
   ]
  },
  {
   "cell_type": "code",
   "execution_count": 12,
   "metadata": {},
   "outputs": [],
   "source": [
    "id_list_inst = df.query('event == \"app_install\"')['device_id'].to_list() "
   ]
  },
  {
   "cell_type": "markdown",
   "metadata": {},
   "source": [
    "Получаю дф только с информацией по инсталу и покупкам для отобранных ранее юзеров:"
   ]
  },
  {
   "cell_type": "code",
   "execution_count": 13,
   "metadata": {
    "scrolled": true
   },
   "outputs": [
    {
     "data": {
      "text/html": [
       "<div>\n",
       "<style scoped>\n",
       "    .dataframe tbody tr th:only-of-type {\n",
       "        vertical-align: middle;\n",
       "    }\n",
       "\n",
       "    .dataframe tbody tr th {\n",
       "        vertical-align: top;\n",
       "    }\n",
       "\n",
       "    .dataframe thead th {\n",
       "        text-align: right;\n",
       "    }\n",
       "</style>\n",
       "<table border=\"1\" class=\"dataframe\">\n",
       "  <thead>\n",
       "    <tr style=\"text-align: right;\">\n",
       "      <th></th>\n",
       "      <th>date</th>\n",
       "      <th>event</th>\n",
       "      <th>purchase_sum</th>\n",
       "      <th>os_name</th>\n",
       "      <th>device_id</th>\n",
       "      <th>gender</th>\n",
       "      <th>city</th>\n",
       "      <th>utm_source</th>\n",
       "    </tr>\n",
       "  </thead>\n",
       "  <tbody>\n",
       "    <tr>\n",
       "      <th>2515778</th>\n",
       "      <td>2020-01-01</td>\n",
       "      <td>app_install</td>\n",
       "      <td>NaN</td>\n",
       "      <td>ios</td>\n",
       "      <td>4378</td>\n",
       "      <td>male</td>\n",
       "      <td>Saint-Petersburg</td>\n",
       "      <td>google_ads</td>\n",
       "    </tr>\n",
       "    <tr>\n",
       "      <th>2515286</th>\n",
       "      <td>2020-01-01</td>\n",
       "      <td>app_install</td>\n",
       "      <td>NaN</td>\n",
       "      <td>android</td>\n",
       "      <td>4505</td>\n",
       "      <td>female</td>\n",
       "      <td>Moscow</td>\n",
       "      <td>yandex-direct</td>\n",
       "    </tr>\n",
       "    <tr>\n",
       "      <th>2515922</th>\n",
       "      <td>2020-01-01</td>\n",
       "      <td>app_install</td>\n",
       "      <td>NaN</td>\n",
       "      <td>ios</td>\n",
       "      <td>4520</td>\n",
       "      <td>female</td>\n",
       "      <td>Saint-Petersburg</td>\n",
       "      <td>instagram_ads</td>\n",
       "    </tr>\n",
       "    <tr>\n",
       "      <th>2517537</th>\n",
       "      <td>2020-01-01</td>\n",
       "      <td>app_install</td>\n",
       "      <td>NaN</td>\n",
       "      <td>android</td>\n",
       "      <td>5248</td>\n",
       "      <td>female</td>\n",
       "      <td>Saint-Petersburg</td>\n",
       "      <td>facebook_ads</td>\n",
       "    </tr>\n",
       "    <tr>\n",
       "      <th>2516068</th>\n",
       "      <td>2020-01-01</td>\n",
       "      <td>app_install</td>\n",
       "      <td>NaN</td>\n",
       "      <td>ios</td>\n",
       "      <td>5524</td>\n",
       "      <td>male</td>\n",
       "      <td>Saint-Petersburg</td>\n",
       "      <td>vk_ads</td>\n",
       "    </tr>\n",
       "  </tbody>\n",
       "</table>\n",
       "</div>"
      ],
      "text/plain": [
       "              date        event  purchase_sum  os_name  device_id  gender  \\\n",
       "2515778 2020-01-01  app_install           NaN      ios       4378    male   \n",
       "2515286 2020-01-01  app_install           NaN  android       4505  female   \n",
       "2515922 2020-01-01  app_install           NaN      ios       4520  female   \n",
       "2517537 2020-01-01  app_install           NaN  android       5248  female   \n",
       "2516068 2020-01-01  app_install           NaN      ios       5524    male   \n",
       "\n",
       "                     city     utm_source  \n",
       "2515778  Saint-Petersburg     google_ads  \n",
       "2515286            Moscow  yandex-direct  \n",
       "2515922  Saint-Petersburg  instagram_ads  \n",
       "2517537  Saint-Petersburg   facebook_ads  \n",
       "2516068  Saint-Petersburg         vk_ads  "
      ]
     },
     "execution_count": 13,
     "metadata": {},
     "output_type": "execute_result"
    }
   ],
   "source": [
    "df_cog = df[df['device_id'].isin(id_list_inst)].query('event == \"app_install\" or event == \"purchase\"') #получаю дф с когортами\n",
    "df_cog = df_cog.sort_values(by = ['date', 'event', 'device_id']) #сортирую по полям, чтобы было удобнее\n",
    "df_cog.head()"
   ]
  },
  {
   "cell_type": "markdown",
   "metadata": {},
   "source": [
    "Оставляю только первую покупку для кажого айди:"
   ]
  },
  {
   "cell_type": "code",
   "execution_count": 15,
   "metadata": {},
   "outputs": [],
   "source": [
    "df_dropped1 = df_cog.drop_duplicates(subset = ['event','device_id'], keep = 'first') "
   ]
  },
  {
   "cell_type": "markdown",
   "metadata": {},
   "source": [
    "Добавляю колонку с датой регистрации, присоединяю к исходному дф"
   ]
  },
  {
   "cell_type": "code",
   "execution_count": 18,
   "metadata": {},
   "outputs": [],
   "source": [
    "reg_date = df_dropped1.query('event == \"app_install\"')[['date', 'device_id']].rename(columns = {'date':'reg_date'}) "
   ]
  },
  {
   "cell_type": "code",
   "execution_count": 19,
   "metadata": {},
   "outputs": [
    {
     "data": {
      "text/html": [
       "<div>\n",
       "<style scoped>\n",
       "    .dataframe tbody tr th:only-of-type {\n",
       "        vertical-align: middle;\n",
       "    }\n",
       "\n",
       "    .dataframe tbody tr th {\n",
       "        vertical-align: top;\n",
       "    }\n",
       "\n",
       "    .dataframe thead th {\n",
       "        text-align: right;\n",
       "    }\n",
       "</style>\n",
       "<table border=\"1\" class=\"dataframe\">\n",
       "  <thead>\n",
       "    <tr style=\"text-align: right;\">\n",
       "      <th></th>\n",
       "      <th>reg_date</th>\n",
       "      <th>device_id</th>\n",
       "    </tr>\n",
       "  </thead>\n",
       "  <tbody>\n",
       "    <tr>\n",
       "      <th>2515778</th>\n",
       "      <td>2020-01-01</td>\n",
       "      <td>4378</td>\n",
       "    </tr>\n",
       "    <tr>\n",
       "      <th>2515286</th>\n",
       "      <td>2020-01-01</td>\n",
       "      <td>4505</td>\n",
       "    </tr>\n",
       "    <tr>\n",
       "      <th>2515922</th>\n",
       "      <td>2020-01-01</td>\n",
       "      <td>4520</td>\n",
       "    </tr>\n",
       "    <tr>\n",
       "      <th>2517537</th>\n",
       "      <td>2020-01-01</td>\n",
       "      <td>5248</td>\n",
       "    </tr>\n",
       "    <tr>\n",
       "      <th>2516068</th>\n",
       "      <td>2020-01-01</td>\n",
       "      <td>5524</td>\n",
       "    </tr>\n",
       "  </tbody>\n",
       "</table>\n",
       "</div>"
      ],
      "text/plain": [
       "          reg_date  device_id\n",
       "2515778 2020-01-01       4378\n",
       "2515286 2020-01-01       4505\n",
       "2515922 2020-01-01       4520\n",
       "2517537 2020-01-01       5248\n",
       "2516068 2020-01-01       5524"
      ]
     },
     "execution_count": 19,
     "metadata": {},
     "output_type": "execute_result"
    }
   ],
   "source": [
    "reg_date.head()"
   ]
  },
  {
   "cell_type": "code",
   "execution_count": 22,
   "metadata": {},
   "outputs": [],
   "source": [
    "df_dropped1 = df_dropped1.merge(reg_date , how= 'left', on='device_id')"
   ]
  },
  {
   "cell_type": "code",
   "execution_count": 23,
   "metadata": {},
   "outputs": [
    {
     "data": {
      "text/html": [
       "<div>\n",
       "<style scoped>\n",
       "    .dataframe tbody tr th:only-of-type {\n",
       "        vertical-align: middle;\n",
       "    }\n",
       "\n",
       "    .dataframe tbody tr th {\n",
       "        vertical-align: top;\n",
       "    }\n",
       "\n",
       "    .dataframe thead th {\n",
       "        text-align: right;\n",
       "    }\n",
       "</style>\n",
       "<table border=\"1\" class=\"dataframe\">\n",
       "  <thead>\n",
       "    <tr style=\"text-align: right;\">\n",
       "      <th></th>\n",
       "      <th>date</th>\n",
       "      <th>event</th>\n",
       "      <th>purchase_sum</th>\n",
       "      <th>os_name</th>\n",
       "      <th>device_id</th>\n",
       "      <th>gender</th>\n",
       "      <th>city</th>\n",
       "      <th>utm_source</th>\n",
       "      <th>reg_date</th>\n",
       "    </tr>\n",
       "  </thead>\n",
       "  <tbody>\n",
       "    <tr>\n",
       "      <th>0</th>\n",
       "      <td>2020-01-01</td>\n",
       "      <td>app_install</td>\n",
       "      <td>NaN</td>\n",
       "      <td>ios</td>\n",
       "      <td>4378</td>\n",
       "      <td>male</td>\n",
       "      <td>Saint-Petersburg</td>\n",
       "      <td>google_ads</td>\n",
       "      <td>2020-01-01</td>\n",
       "    </tr>\n",
       "    <tr>\n",
       "      <th>1</th>\n",
       "      <td>2020-01-01</td>\n",
       "      <td>app_install</td>\n",
       "      <td>NaN</td>\n",
       "      <td>android</td>\n",
       "      <td>4505</td>\n",
       "      <td>female</td>\n",
       "      <td>Moscow</td>\n",
       "      <td>yandex-direct</td>\n",
       "      <td>2020-01-01</td>\n",
       "    </tr>\n",
       "    <tr>\n",
       "      <th>2</th>\n",
       "      <td>2020-01-01</td>\n",
       "      <td>app_install</td>\n",
       "      <td>NaN</td>\n",
       "      <td>ios</td>\n",
       "      <td>4520</td>\n",
       "      <td>female</td>\n",
       "      <td>Saint-Petersburg</td>\n",
       "      <td>instagram_ads</td>\n",
       "      <td>2020-01-01</td>\n",
       "    </tr>\n",
       "    <tr>\n",
       "      <th>3</th>\n",
       "      <td>2020-01-01</td>\n",
       "      <td>app_install</td>\n",
       "      <td>NaN</td>\n",
       "      <td>android</td>\n",
       "      <td>5248</td>\n",
       "      <td>female</td>\n",
       "      <td>Saint-Petersburg</td>\n",
       "      <td>facebook_ads</td>\n",
       "      <td>2020-01-01</td>\n",
       "    </tr>\n",
       "    <tr>\n",
       "      <th>4</th>\n",
       "      <td>2020-01-01</td>\n",
       "      <td>app_install</td>\n",
       "      <td>NaN</td>\n",
       "      <td>ios</td>\n",
       "      <td>5524</td>\n",
       "      <td>male</td>\n",
       "      <td>Saint-Petersburg</td>\n",
       "      <td>vk_ads</td>\n",
       "      <td>2020-01-01</td>\n",
       "    </tr>\n",
       "  </tbody>\n",
       "</table>\n",
       "</div>"
      ],
      "text/plain": [
       "        date        event  purchase_sum  os_name  device_id  gender  \\\n",
       "0 2020-01-01  app_install           NaN      ios       4378    male   \n",
       "1 2020-01-01  app_install           NaN  android       4505  female   \n",
       "2 2020-01-01  app_install           NaN      ios       4520  female   \n",
       "3 2020-01-01  app_install           NaN  android       5248  female   \n",
       "4 2020-01-01  app_install           NaN      ios       5524    male   \n",
       "\n",
       "               city     utm_source   reg_date  \n",
       "0  Saint-Petersburg     google_ads 2020-01-01  \n",
       "1            Moscow  yandex-direct 2020-01-01  \n",
       "2  Saint-Petersburg  instagram_ads 2020-01-01  \n",
       "3  Saint-Petersburg   facebook_ads 2020-01-01  \n",
       "4  Saint-Petersburg         vk_ads 2020-01-01  "
      ]
     },
     "execution_count": 23,
     "metadata": {},
     "output_type": "execute_result"
    }
   ],
   "source": [
    "df_dropped1.head()"
   ]
  },
  {
   "cell_type": "markdown",
   "metadata": {},
   "source": [
    "Добавляю колонку с датой покупки, присоединяю к исходному дф"
   ]
  },
  {
   "cell_type": "code",
   "execution_count": 24,
   "metadata": {},
   "outputs": [],
   "source": [
    "purch_date = df_dropped1.query('event == \"purchase\"')[['date', 'device_id']].rename(columns = {'date':'purch_date'})"
   ]
  },
  {
   "cell_type": "code",
   "execution_count": 25,
   "metadata": {},
   "outputs": [
    {
     "data": {
      "text/html": [
       "<div>\n",
       "<style scoped>\n",
       "    .dataframe tbody tr th:only-of-type {\n",
       "        vertical-align: middle;\n",
       "    }\n",
       "\n",
       "    .dataframe tbody tr th {\n",
       "        vertical-align: top;\n",
       "    }\n",
       "\n",
       "    .dataframe thead th {\n",
       "        text-align: right;\n",
       "    }\n",
       "</style>\n",
       "<table border=\"1\" class=\"dataframe\">\n",
       "  <thead>\n",
       "    <tr style=\"text-align: right;\">\n",
       "      <th></th>\n",
       "      <th>purch_date</th>\n",
       "      <th>device_id</th>\n",
       "    </tr>\n",
       "  </thead>\n",
       "  <tbody>\n",
       "    <tr>\n",
       "      <th>3579</th>\n",
       "      <td>2020-01-01</td>\n",
       "      <td>4378</td>\n",
       "    </tr>\n",
       "    <tr>\n",
       "      <th>3580</th>\n",
       "      <td>2020-01-01</td>\n",
       "      <td>4505</td>\n",
       "    </tr>\n",
       "    <tr>\n",
       "      <th>3581</th>\n",
       "      <td>2020-01-01</td>\n",
       "      <td>6486</td>\n",
       "    </tr>\n",
       "    <tr>\n",
       "      <th>3582</th>\n",
       "      <td>2020-01-01</td>\n",
       "      <td>8674</td>\n",
       "    </tr>\n",
       "    <tr>\n",
       "      <th>3583</th>\n",
       "      <td>2020-01-01</td>\n",
       "      <td>11188</td>\n",
       "    </tr>\n",
       "  </tbody>\n",
       "</table>\n",
       "</div>"
      ],
      "text/plain": [
       "     purch_date  device_id\n",
       "3579 2020-01-01       4378\n",
       "3580 2020-01-01       4505\n",
       "3581 2020-01-01       6486\n",
       "3582 2020-01-01       8674\n",
       "3583 2020-01-01      11188"
      ]
     },
     "execution_count": 25,
     "metadata": {},
     "output_type": "execute_result"
    }
   ],
   "source": [
    "purch_date.head()"
   ]
  },
  {
   "cell_type": "code",
   "execution_count": 26,
   "metadata": {},
   "outputs": [],
   "source": [
    "df_dropped1 = df_dropped1.merge(purch_date , how= 'left', on='device_id')"
   ]
  },
  {
   "cell_type": "code",
   "execution_count": 27,
   "metadata": {},
   "outputs": [
    {
     "data": {
      "text/html": [
       "<div>\n",
       "<style scoped>\n",
       "    .dataframe tbody tr th:only-of-type {\n",
       "        vertical-align: middle;\n",
       "    }\n",
       "\n",
       "    .dataframe tbody tr th {\n",
       "        vertical-align: top;\n",
       "    }\n",
       "\n",
       "    .dataframe thead th {\n",
       "        text-align: right;\n",
       "    }\n",
       "</style>\n",
       "<table border=\"1\" class=\"dataframe\">\n",
       "  <thead>\n",
       "    <tr style=\"text-align: right;\">\n",
       "      <th></th>\n",
       "      <th>date</th>\n",
       "      <th>event</th>\n",
       "      <th>purchase_sum</th>\n",
       "      <th>os_name</th>\n",
       "      <th>device_id</th>\n",
       "      <th>gender</th>\n",
       "      <th>city</th>\n",
       "      <th>utm_source</th>\n",
       "      <th>reg_date</th>\n",
       "      <th>purch_date</th>\n",
       "    </tr>\n",
       "  </thead>\n",
       "  <tbody>\n",
       "    <tr>\n",
       "      <th>0</th>\n",
       "      <td>2020-01-01</td>\n",
       "      <td>app_install</td>\n",
       "      <td>NaN</td>\n",
       "      <td>ios</td>\n",
       "      <td>4378</td>\n",
       "      <td>male</td>\n",
       "      <td>Saint-Petersburg</td>\n",
       "      <td>google_ads</td>\n",
       "      <td>2020-01-01</td>\n",
       "      <td>2020-01-01</td>\n",
       "    </tr>\n",
       "    <tr>\n",
       "      <th>1</th>\n",
       "      <td>2020-01-01</td>\n",
       "      <td>app_install</td>\n",
       "      <td>NaN</td>\n",
       "      <td>android</td>\n",
       "      <td>4505</td>\n",
       "      <td>female</td>\n",
       "      <td>Moscow</td>\n",
       "      <td>yandex-direct</td>\n",
       "      <td>2020-01-01</td>\n",
       "      <td>2020-01-01</td>\n",
       "    </tr>\n",
       "    <tr>\n",
       "      <th>2</th>\n",
       "      <td>2020-01-01</td>\n",
       "      <td>app_install</td>\n",
       "      <td>NaN</td>\n",
       "      <td>ios</td>\n",
       "      <td>4520</td>\n",
       "      <td>female</td>\n",
       "      <td>Saint-Petersburg</td>\n",
       "      <td>instagram_ads</td>\n",
       "      <td>2020-01-01</td>\n",
       "      <td>2020-01-06</td>\n",
       "    </tr>\n",
       "    <tr>\n",
       "      <th>3</th>\n",
       "      <td>2020-01-01</td>\n",
       "      <td>app_install</td>\n",
       "      <td>NaN</td>\n",
       "      <td>android</td>\n",
       "      <td>5248</td>\n",
       "      <td>female</td>\n",
       "      <td>Saint-Petersburg</td>\n",
       "      <td>facebook_ads</td>\n",
       "      <td>2020-01-01</td>\n",
       "      <td>2020-01-26</td>\n",
       "    </tr>\n",
       "    <tr>\n",
       "      <th>4</th>\n",
       "      <td>2020-01-01</td>\n",
       "      <td>app_install</td>\n",
       "      <td>NaN</td>\n",
       "      <td>ios</td>\n",
       "      <td>5524</td>\n",
       "      <td>male</td>\n",
       "      <td>Saint-Petersburg</td>\n",
       "      <td>vk_ads</td>\n",
       "      <td>2020-01-01</td>\n",
       "      <td>2020-01-10</td>\n",
       "    </tr>\n",
       "  </tbody>\n",
       "</table>\n",
       "</div>"
      ],
      "text/plain": [
       "        date        event  purchase_sum  os_name  device_id  gender  \\\n",
       "0 2020-01-01  app_install           NaN      ios       4378    male   \n",
       "1 2020-01-01  app_install           NaN  android       4505  female   \n",
       "2 2020-01-01  app_install           NaN      ios       4520  female   \n",
       "3 2020-01-01  app_install           NaN  android       5248  female   \n",
       "4 2020-01-01  app_install           NaN      ios       5524    male   \n",
       "\n",
       "               city     utm_source   reg_date purch_date  \n",
       "0  Saint-Petersburg     google_ads 2020-01-01 2020-01-01  \n",
       "1            Moscow  yandex-direct 2020-01-01 2020-01-01  \n",
       "2  Saint-Petersburg  instagram_ads 2020-01-01 2020-01-06  \n",
       "3  Saint-Petersburg   facebook_ads 2020-01-01 2020-01-26  \n",
       "4  Saint-Petersburg         vk_ads 2020-01-01 2020-01-10  "
      ]
     },
     "execution_count": 27,
     "metadata": {},
     "output_type": "execute_result"
    }
   ],
   "source": [
    "df_dropped1.head()"
   ]
  },
  {
   "cell_type": "markdown",
   "metadata": {},
   "source": [
    "Cчитаю количество установок по когортам"
   ]
  },
  {
   "cell_type": "code",
   "execution_count": 29,
   "metadata": {},
   "outputs": [],
   "source": [
    "inst_count = df_dropped1.query('event == \"app_install\"').groupby('date').device_id.count()"
   ]
  },
  {
   "cell_type": "code",
   "execution_count": 30,
   "metadata": {
    "scrolled": true
   },
   "outputs": [],
   "source": [
    "#дропаю дубликаты по айди, чтобы создать колонку с фактом покупки по когортам\n",
    "df_dropped2 = df_dropped1[['date', 'device_id','reg_date', 'purch_date']].drop_duplicates('device_id', keep = 'first')"
   ]
  },
  {
   "cell_type": "code",
   "execution_count": 31,
   "metadata": {},
   "outputs": [],
   "source": [
    "#создаю колонку: конвертировался ли пользователь за 7 дней?\n",
    "df_dropped2['conv_purch'] = np.where((df_dropped2.reg_date - df_dropped2.purch_date).dt.days <=7, 1 ,0)"
   ]
  },
  {
   "cell_type": "code",
   "execution_count": 32,
   "metadata": {},
   "outputs": [
    {
     "data": {
      "text/plain": [
       "date\n",
       "2020-01-01    2308\n",
       "2020-01-02    1977\n",
       "2020-01-03    1400\n",
       "2020-01-04    1017\n",
       "2020-01-05     910\n",
       "              ... \n",
       "2020-03-27     277\n",
       "2020-03-28     209\n",
       "2020-03-29     223\n",
       "2020-03-30     204\n",
       "2020-03-31     241\n",
       "Name: conv_purch, Length: 91, dtype: int64"
      ]
     },
     "execution_count": 32,
     "metadata": {},
     "output_type": "execute_result"
    }
   ],
   "source": [
    "#считаю количество пользователей с покупкой в первые 7 дней по когортам\n",
    "conv_count = df_dropped2.groupby('date').conv_purch.sum()\n",
    "conv_count"
   ]
  },
  {
   "cell_type": "markdown",
   "metadata": {},
   "source": [
    "Какая когорта с максимальной конверсией?"
   ]
  },
  {
   "cell_type": "code",
   "execution_count": 33,
   "metadata": {},
   "outputs": [
    {
     "data": {
      "text/plain": [
       "Timestamp('2020-01-01 00:00:00')"
      ]
     },
     "execution_count": 33,
     "metadata": {},
     "output_type": "execute_result"
    }
   ],
   "source": [
    "(conv_count/ inst_count).idxmax()"
   ]
  },
  {
   "cell_type": "code",
   "execution_count": 40,
   "metadata": {
    "scrolled": true
   },
   "outputs": [
    {
     "data": {
      "text/plain": [
       "64.5"
      ]
     },
     "execution_count": 40,
     "metadata": {},
     "output_type": "execute_result"
    }
   ],
   "source": [
    "((conv_count/ inst_count).max()*100).round(1)"
   ]
  },
  {
   "cell_type": "markdown",
   "metadata": {},
   "source": [
    "### Вывод\n",
    "Когорта с максимальной конверсией - 2020-01-01, 64.5%"
   ]
  },
  {
   "cell_type": "markdown",
   "metadata": {},
   "source": [
    "#### С какого платного маркетингового канала пришло больше всего новых пользователей? "
   ]
  },
  {
   "cell_type": "code",
   "execution_count": 41,
   "metadata": {
    "scrolled": false
   },
   "outputs": [
    {
     "data": {
      "text/plain": [
       "utm_source\n",
       "-                32460\n",
       "yandex-direct    29368\n",
       "google_ads       26286\n",
       "vk_ads           23189\n",
       "instagram_ads    20096\n",
       "facebook_ads     13916\n",
       "referal           9282\n",
       "Name: device_id, dtype: int64"
      ]
     },
     "execution_count": 41,
     "metadata": {},
     "output_type": "execute_result"
    }
   ],
   "source": [
    "df.query('event== \"app_install\"').groupby('utm_source').device_id.nunique().sort_values(ascending = False)"
   ]
  },
  {
   "cell_type": "markdown",
   "metadata": {},
   "source": [
    "**Ответ: yandex-direct**  "
   ]
  },
  {
   "cell_type": "markdown",
   "metadata": {},
   "source": [
    "#### Проанализируйте на каком этапе воронки отваливается бОльшая часть клиентов. Посмотрите отдельно сценарии для зарегистрированных пользователей. На каком шаге отваливается больше всего зарегистрированных пользователей?"
   ]
  },
  {
   "cell_type": "markdown",
   "metadata": {},
   "source": [
    "Для зарегистрированных: отбираю зарегестрированных, добавляю колонку с датой регистрации к основному дф, далее с поиощью даты эвента отбираю те эвенты, которые произошли после регистрации"
   ]
  },
  {
   "cell_type": "code",
   "execution_count": 62,
   "metadata": {},
   "outputs": [],
   "source": [
    "first_reg = df.query('event == \"register\"').drop_duplicates('device_id')"
   ]
  },
  {
   "cell_type": "code",
   "execution_count": 63,
   "metadata": {},
   "outputs": [
    {
     "data": {
      "text/html": [
       "<div>\n",
       "<style scoped>\n",
       "    .dataframe tbody tr th:only-of-type {\n",
       "        vertical-align: middle;\n",
       "    }\n",
       "\n",
       "    .dataframe tbody tr th {\n",
       "        vertical-align: top;\n",
       "    }\n",
       "\n",
       "    .dataframe thead th {\n",
       "        text-align: right;\n",
       "    }\n",
       "</style>\n",
       "<table border=\"1\" class=\"dataframe\">\n",
       "  <thead>\n",
       "    <tr style=\"text-align: right;\">\n",
       "      <th></th>\n",
       "      <th>date</th>\n",
       "      <th>event</th>\n",
       "      <th>purchase_sum</th>\n",
       "      <th>os_name</th>\n",
       "      <th>device_id</th>\n",
       "      <th>gender</th>\n",
       "      <th>city</th>\n",
       "      <th>utm_source</th>\n",
       "      <th>first_reg</th>\n",
       "    </tr>\n",
       "  </thead>\n",
       "  <tbody>\n",
       "    <tr>\n",
       "      <th>2669658</th>\n",
       "      <td>2020-01-01</td>\n",
       "      <td>register</td>\n",
       "      <td>NaN</td>\n",
       "      <td>ios</td>\n",
       "      <td>294193</td>\n",
       "      <td>female</td>\n",
       "      <td>Saint-Petersburg</td>\n",
       "      <td>instagram_ads</td>\n",
       "      <td>2020-01-01</td>\n",
       "    </tr>\n",
       "    <tr>\n",
       "      <th>2669659</th>\n",
       "      <td>2020-01-01</td>\n",
       "      <td>register</td>\n",
       "      <td>NaN</td>\n",
       "      <td>ios</td>\n",
       "      <td>22917617</td>\n",
       "      <td>male</td>\n",
       "      <td>Moscow</td>\n",
       "      <td>google_ads</td>\n",
       "      <td>2020-01-01</td>\n",
       "    </tr>\n",
       "    <tr>\n",
       "      <th>2669660</th>\n",
       "      <td>2020-01-01</td>\n",
       "      <td>register</td>\n",
       "      <td>NaN</td>\n",
       "      <td>android</td>\n",
       "      <td>15248490</td>\n",
       "      <td>male</td>\n",
       "      <td>Moscow</td>\n",
       "      <td>-</td>\n",
       "      <td>2020-01-01</td>\n",
       "    </tr>\n",
       "    <tr>\n",
       "      <th>2669661</th>\n",
       "      <td>2020-01-01</td>\n",
       "      <td>register</td>\n",
       "      <td>NaN</td>\n",
       "      <td>android</td>\n",
       "      <td>252062</td>\n",
       "      <td>female</td>\n",
       "      <td>Moscow</td>\n",
       "      <td>vk_ads</td>\n",
       "      <td>2020-01-01</td>\n",
       "    </tr>\n",
       "    <tr>\n",
       "      <th>2669662</th>\n",
       "      <td>2020-01-01</td>\n",
       "      <td>register</td>\n",
       "      <td>NaN</td>\n",
       "      <td>android</td>\n",
       "      <td>2251583</td>\n",
       "      <td>female</td>\n",
       "      <td>Moscow</td>\n",
       "      <td>instagram_ads</td>\n",
       "      <td>2020-01-01</td>\n",
       "    </tr>\n",
       "  </tbody>\n",
       "</table>\n",
       "</div>"
      ],
      "text/plain": [
       "              date     event  purchase_sum  os_name  device_id  gender  \\\n",
       "2669658 2020-01-01  register           NaN      ios     294193  female   \n",
       "2669659 2020-01-01  register           NaN      ios   22917617    male   \n",
       "2669660 2020-01-01  register           NaN  android   15248490    male   \n",
       "2669661 2020-01-01  register           NaN  android     252062  female   \n",
       "2669662 2020-01-01  register           NaN  android    2251583  female   \n",
       "\n",
       "                     city     utm_source  first_reg  \n",
       "2669658  Saint-Petersburg  instagram_ads 2020-01-01  \n",
       "2669659            Moscow     google_ads 2020-01-01  \n",
       "2669660            Moscow              - 2020-01-01  \n",
       "2669661            Moscow         vk_ads 2020-01-01  \n",
       "2669662            Moscow  instagram_ads 2020-01-01  "
      ]
     },
     "execution_count": 63,
     "metadata": {},
     "output_type": "execute_result"
    }
   ],
   "source": [
    "first_reg.head()"
   ]
  },
  {
   "cell_type": "code",
   "execution_count": 54,
   "metadata": {},
   "outputs": [],
   "source": [
    "df['first_reg'] = df.device_id.map(first_reg.set_index('device_id')['date'])"
   ]
  },
  {
   "cell_type": "code",
   "execution_count": 60,
   "metadata": {},
   "outputs": [
    {
     "data": {
      "text/html": [
       "<div>\n",
       "<style scoped>\n",
       "    .dataframe tbody tr th:only-of-type {\n",
       "        vertical-align: middle;\n",
       "    }\n",
       "\n",
       "    .dataframe tbody tr th {\n",
       "        vertical-align: top;\n",
       "    }\n",
       "\n",
       "    .dataframe thead th {\n",
       "        text-align: right;\n",
       "    }\n",
       "</style>\n",
       "<table border=\"1\" class=\"dataframe\">\n",
       "  <thead>\n",
       "    <tr style=\"text-align: right;\">\n",
       "      <th></th>\n",
       "      <th>date</th>\n",
       "      <th>event</th>\n",
       "      <th>purchase_sum</th>\n",
       "      <th>os_name</th>\n",
       "      <th>device_id</th>\n",
       "      <th>gender</th>\n",
       "      <th>city</th>\n",
       "      <th>utm_source</th>\n",
       "      <th>first_reg</th>\n",
       "    </tr>\n",
       "  </thead>\n",
       "  <tbody>\n",
       "    <tr>\n",
       "      <th>0</th>\n",
       "      <td>2020-01-01</td>\n",
       "      <td>app_start</td>\n",
       "      <td>NaN</td>\n",
       "      <td>android</td>\n",
       "      <td>669460</td>\n",
       "      <td>female</td>\n",
       "      <td>Moscow</td>\n",
       "      <td>-</td>\n",
       "      <td>2020-01-07</td>\n",
       "    </tr>\n",
       "    <tr>\n",
       "      <th>1</th>\n",
       "      <td>2020-01-01</td>\n",
       "      <td>app_start</td>\n",
       "      <td>NaN</td>\n",
       "      <td>ios</td>\n",
       "      <td>833621</td>\n",
       "      <td>male</td>\n",
       "      <td>Moscow</td>\n",
       "      <td>vk_ads</td>\n",
       "      <td>2020-01-01</td>\n",
       "    </tr>\n",
       "    <tr>\n",
       "      <th>2</th>\n",
       "      <td>2020-01-01</td>\n",
       "      <td>app_start</td>\n",
       "      <td>NaN</td>\n",
       "      <td>android</td>\n",
       "      <td>1579237</td>\n",
       "      <td>male</td>\n",
       "      <td>Saint-Petersburg</td>\n",
       "      <td>referal</td>\n",
       "      <td>2020-01-01</td>\n",
       "    </tr>\n",
       "    <tr>\n",
       "      <th>3</th>\n",
       "      <td>2020-01-01</td>\n",
       "      <td>app_start</td>\n",
       "      <td>NaN</td>\n",
       "      <td>android</td>\n",
       "      <td>1737182</td>\n",
       "      <td>female</td>\n",
       "      <td>Moscow</td>\n",
       "      <td>facebook_ads</td>\n",
       "      <td>2020-01-01</td>\n",
       "    </tr>\n",
       "    <tr>\n",
       "      <th>4</th>\n",
       "      <td>2020-01-01</td>\n",
       "      <td>app_start</td>\n",
       "      <td>NaN</td>\n",
       "      <td>ios</td>\n",
       "      <td>4029024</td>\n",
       "      <td>female</td>\n",
       "      <td>Moscow</td>\n",
       "      <td>facebook_ads</td>\n",
       "      <td>NaT</td>\n",
       "    </tr>\n",
       "  </tbody>\n",
       "</table>\n",
       "</div>"
      ],
      "text/plain": [
       "        date      event  purchase_sum  os_name  device_id  gender  \\\n",
       "0 2020-01-01  app_start           NaN  android     669460  female   \n",
       "1 2020-01-01  app_start           NaN      ios     833621    male   \n",
       "2 2020-01-01  app_start           NaN  android    1579237    male   \n",
       "3 2020-01-01  app_start           NaN  android    1737182  female   \n",
       "4 2020-01-01  app_start           NaN      ios    4029024  female   \n",
       "\n",
       "               city    utm_source  first_reg  \n",
       "0            Moscow             - 2020-01-07  \n",
       "1            Moscow        vk_ads 2020-01-01  \n",
       "2  Saint-Petersburg       referal 2020-01-01  \n",
       "3            Moscow  facebook_ads 2020-01-01  \n",
       "4            Moscow  facebook_ads        NaT  "
      ]
     },
     "execution_count": 60,
     "metadata": {},
     "output_type": "execute_result"
    }
   ],
   "source": [
    "df.head()"
   ]
  },
  {
   "cell_type": "code",
   "execution_count": 65,
   "metadata": {},
   "outputs": [],
   "source": [
    "already_reg_events = df.query('date > first_reg')"
   ]
  },
  {
   "cell_type": "code",
   "execution_count": 68,
   "metadata": {
    "scrolled": true
   },
   "outputs": [
    {
     "data": {
      "text/plain": [
       "event\n",
       "purchase       24880\n",
       "tap_basket     34517\n",
       "choose_item    37926\n",
       "search         40482\n",
       "app_start      40991\n",
       "Name: device_id, dtype: int64"
      ]
     },
     "execution_count": 68,
     "metadata": {},
     "output_type": "execute_result"
    }
   ],
   "source": [
    "already_reg_events.groupby('event').device_id.nunique().sort_values()"
   ]
  },
  {
   "cell_type": "markdown",
   "metadata": {},
   "source": [
    "**Ответ: tap_basket**  "
   ]
  },
  {
   "cell_type": "markdown",
   "metadata": {},
   "source": [
    "#### Пользователи, пришедшие с каких каналов, показали самую низкую конверсию в первую покупку?"
   ]
  },
  {
   "cell_type": "code",
   "execution_count": 27,
   "metadata": {},
   "outputs": [
    {
     "data": {
      "text/plain": [
       "utm_source\n",
       "-                52268\n",
       "facebook_ads     25957\n",
       "google_ads       38092\n",
       "instagram_ads    31045\n",
       "referal          15924\n",
       "vk_ads           34079\n",
       "yandex-direct    40707\n",
       "Name: device_id, dtype: int64"
      ]
     },
     "execution_count": 27,
     "metadata": {},
     "output_type": "execute_result"
    }
   ],
   "source": [
    "df.query('event== \"app_start\"').groupby('utm_source').device_id.nunique() #кол-во юзеров, впервые открывших приложение "
   ]
  },
  {
   "cell_type": "code",
   "execution_count": 28,
   "metadata": {},
   "outputs": [
    {
     "data": {
      "text/plain": [
       "utm_source\n",
       "-                16598\n",
       "facebook_ads      9017\n",
       "google_ads       11339\n",
       "instagram_ads    10762\n",
       "referal           6362\n",
       "vk_ads           12364\n",
       "yandex-direct    12028\n",
       "Name: device_id, dtype: int64"
      ]
     },
     "execution_count": 28,
     "metadata": {},
     "output_type": "execute_result"
    }
   ],
   "source": [
    "df.query('event== \"purchase\"').groupby('utm_source').device_id.nunique() #кол-во юзеров, впервые совершивших покупку"
   ]
  },
  {
   "cell_type": "code",
   "execution_count": 78,
   "metadata": {},
   "outputs": [
    {
     "data": {
      "text/plain": [
       "utm_source\n",
       "yandex-direct    0.295477\n",
       "google_ads       0.297674\n",
       "-                0.317556\n",
       "instagram_ads    0.346658\n",
       "facebook_ads     0.347382\n",
       "vk_ads           0.362804\n",
       "referal          0.399523\n",
       "Name: device_id, dtype: float64"
      ]
     },
     "execution_count": 78,
     "metadata": {},
     "output_type": "execute_result"
    }
   ],
   "source": [
    "CR = df.query('event== \"purchase\"').groupby('utm_source').device_id.nunique() \\\n",
    "    / df.query('event== \"app_start\"').groupby('utm_source').device_id.nunique()\n",
    "CR.sort_values(ascending = True)"
   ]
  },
  {
   "cell_type": "markdown",
   "metadata": {},
   "source": [
    "**Ответ: yandex-direct**"
   ]
  },
  {
   "cell_type": "markdown",
   "metadata": {},
   "source": [
    "#### Пользователи, пришедшие с какого канала, имеют медианный первый чек выше? (учитываются только первые покупки пользователей)"
   ]
  },
  {
   "cell_type": "code",
   "execution_count": 84,
   "metadata": {},
   "outputs": [
    {
     "data": {
      "text/plain": [
       "utm_source\n",
       "-                398.5\n",
       "referal          395.5\n",
       "instagram_ads    393.5\n",
       "vk_ads           393.0\n",
       "yandex-direct    392.5\n",
       "google_ads       390.5\n",
       "facebook_ads     389.0\n",
       "Name: purchase_sum, dtype: float64"
      ]
     },
     "execution_count": 84,
     "metadata": {},
     "output_type": "execute_result"
    }
   ],
   "source": [
    "df.query('purchase_sum > 0').drop_duplicates(subset = ['event','device_id'], keep = 'first') \\\n",
    "    .groupby('utm_source').purchase_sum.median().sort_values(ascending = False)"
   ]
  },
  {
   "cell_type": "markdown",
   "metadata": {},
   "source": [
    "**Ответ: -**"
   ]
  },
  {
   "cell_type": "markdown",
   "metadata": {},
   "source": [
    "Данные по затратам на рекламу:\n",
    "\n",
    "Яндекс – 10 491 707 руб.\n",
    "\n",
    "Гугл – 10 534 878 руб.\n",
    "\n",
    "Фейсбук – 8 590 498 руб.\n",
    "\n",
    "Инстаграм – 8 561626 руб.\n",
    "\n",
    "ВК – 9 553 531руб.\n",
    "\n",
    "Какой платный канал привлечения имеет самый высокий ROMI? \n"
   ]
  },
  {
   "cell_type": "code",
   "execution_count": 31,
   "metadata": {},
   "outputs": [],
   "source": [
    "ads_costs = pd.Series({'facebook_ads': '8590498', \n",
    "                       'google_ads': '10534878', \n",
    "                       'instagram_ads': '8561626', \n",
    "                       'vk_ads': '9553531',\n",
    "                        'yandex-direct': '10491707'},\n",
    "                     index=['facebook_ads', 'google_ads', 'instagram_ads', 'vk_ads', 'yandex-direct']) #создаю серию с рекламой\n",
    "ads_costs = ads_costs.astype(float)"
   ]
  },
  {
   "cell_type": "code",
   "execution_count": 32,
   "metadata": {},
   "outputs": [
    {
     "data": {
      "text/plain": [
       "utm_source\n",
       "facebook_ads     12249901.0\n",
       "google_ads       12868276.0\n",
       "instagram_ads    14546969.0\n",
       "vk_ads           16389652.5\n",
       "yandex-direct    13915368.0\n",
       "Name: purchase_sum, dtype: float64"
      ]
     },
     "execution_count": 32,
     "metadata": {},
     "output_type": "execute_result"
    }
   ],
   "source": [
    "revenue_by_cahnnel = df.groupby('utm_source').purchase_sum.sum() #считаем прибыль с каждого канала\n",
    "revenue_by_cahnnel.drop(['referal', '-'], axis = 0) #выкидываем ненужные строки"
   ]
  },
  {
   "cell_type": "code",
   "execution_count": 33,
   "metadata": {},
   "outputs": [
    {
     "data": {
      "text/plain": [
       "-                     NaN\n",
       "facebook_ads     0.425983\n",
       "google_ads       0.221493\n",
       "instagram_ads    0.699090\n",
       "referal               NaN\n",
       "vk_ads           0.715560\n",
       "yandex-direct    0.326321\n",
       "dtype: float64"
      ]
     },
     "execution_count": 33,
     "metadata": {},
     "output_type": "execute_result"
    }
   ],
   "source": [
    "ROMI = (revenue_by_cahnnel- ads_costs) / ads_costs\n",
    "ROMI"
   ]
  },
  {
   "cell_type": "markdown",
   "metadata": {},
   "source": [
    "**Ответ: vk_ads**"
   ]
  }
 ],
 "metadata": {
  "kernelspec": {
   "display_name": "Python 3",
   "language": "python",
   "name": "python3"
  },
  "language_info": {
   "codemirror_mode": {
    "name": "ipython",
    "version": 3
   },
   "file_extension": ".py",
   "mimetype": "text/x-python",
   "name": "python",
   "nbconvert_exporter": "python",
   "pygments_lexer": "ipython3",
   "version": "3.7.3"
  }
 },
 "nbformat": 4,
 "nbformat_minor": 4
}
